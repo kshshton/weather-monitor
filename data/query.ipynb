{
 "cells": [
  {
   "cell_type": "code",
   "execution_count": 1,
   "id": "9a88e82a",
   "metadata": {},
   "outputs": [],
   "source": [
    "import sqlite3\n",
    "import pandas as pd\n",
    "\n",
    "conn = sqlite3.connect(\"metadata.db\")"
   ]
  },
  {
   "cell_type": "code",
   "execution_count": 2,
   "id": "7a090ea7",
   "metadata": {},
   "outputs": [],
   "source": [
    "def query(sql: str) -> None:\n",
    "    print(pd.read_sql_query(sql, conn))"
   ]
  },
  {
   "cell_type": "code",
   "execution_count": null,
   "id": "42543073-cef2-4975-8b91-47e3008caf5b",
   "metadata": {},
   "outputs": [
    {
     "name": "stdout",
     "output_type": "stream",
     "text": [
      "              timestamp    sensor        metric   value        unit\n",
      "0   2025-07-04T10:39:41  BME280_0   TEMPERATURE   25.98          *C\n",
      "1   2025-07-04T10:39:41  BME280_0     DEW POINT   12.50          *C\n",
      "2   2025-07-04T10:39:41  BME280_0      HUMIDITY   43.17         %RH\n",
      "3   2025-07-04T10:39:41  BME280_0  ABS HUMIDITY   10.50         %AH\n",
      "4   2025-07-04T10:39:41  BME280_0      PRESSURE  1001.8         hPA\n",
      "5   2025-07-04T10:39:41  BME280_1   TEMPERATURE   26.26          *C\n",
      "6   2025-07-04T10:39:41  BME280_1     DEW POINT   20.22          *C\n",
      "7   2025-07-04T10:39:41  BME280_1      HUMIDITY   69.42         %RH\n",
      "8   2025-07-04T10:39:41  BME280_1  ABS HUMIDITY   17.15         %AH\n",
      "9   2025-07-04T10:39:41  BME280_1      PRESSURE  1000.9         hPA\n",
      "10  2025-07-04T10:39:41  BME__AVG   TEMPERATURE   26.12          *C\n",
      "11  2025-07-04T10:39:41  BME__AVG     DEW POINT   16.74          *C\n",
      "12  2025-07-04T10:39:41  BME__AVG      HUMIDITY   56.30         %RH\n",
      "13  2025-07-04T10:39:41  BME__AVG  ABS HUMIDITY   13.80         %AH\n",
      "14  2025-07-04T10:39:41  BME__AVG      PRESSURE  1001.3         hPA\n",
      "15  2025-07-04T10:39:41  BMP180_0      PRESSURE  1002.6         hPA\n",
      "16  2025-07-04T10:39:41  BMP180_0   TEMPERATURE   26.47          *C\n",
      "17  2025-07-04T10:39:41  DHT20__0   TEMPERATURE   26.04          *C\n",
      "18  2025-07-04T10:39:41  DHT20__0     DEW POINT   13.93          *C\n",
      "19  2025-07-04T10:39:41  DHT20__0      HUMIDITY   47.22         %RH\n",
      "20  2025-07-04T10:39:41  DHT20__0  ABS HUMIDITY   11.53         %AH\n",
      "21  2025-07-04T10:39:41  DHT20__1   TEMPERATURE   26.27          *C\n",
      "22  2025-07-04T10:39:41  DHT20__1     DEW POINT   13.76          *C\n",
      "23  2025-07-04T10:39:41  DHT20__1      HUMIDITY   46.08         %RH\n",
      "24  2025-07-04T10:39:41  DHT20__1  ABS HUMIDITY   11.39         %AH\n",
      "25  2025-07-04T10:39:41  DHT__AVG   TEMPERATURE   26.16          *C\n",
      "26  2025-07-04T10:39:41  DHT__AVG     DEW POINT   13.85          *C\n",
      "27  2025-07-04T10:39:41  DHT__AVG      HUMIDITY   46.65         %RH\n",
      "28  2025-07-04T10:39:42  DHT__AVG  ABS HUMIDITY   11.46         %AH\n",
      "29  2025-07-04T10:39:42  DHT11__0   TEMPERATURE   26.70          *C\n",
      "30  2025-07-04T10:39:42  DHT11__0     DEW POINT   13.44          *C\n",
      "31  2025-07-04T10:39:42  DHT11__0      HUMIDITY   44.00         %RH\n",
      "32  2025-07-04T10:39:42  DHT11__0  ABS HUMIDITY   11.14         %AH\n",
      "33  2025-07-04T10:39:42  DHT22__0   TEMPERATURE   28.90          *C\n",
      "34  2025-07-04T10:39:42  DHT22__0     DEW POINT   19.47          *C\n",
      "35  2025-07-04T10:39:42  DHT22__0      HUMIDITY   56.80         %RH\n",
      "36  2025-07-04T10:39:42  DHT22__0  ABS HUMIDITY   16.24         %AH\n",
      "37  2025-07-04T10:39:42  SGP30__0          eCO2     426         ppm\n",
      "38  2025-07-04T10:39:42  SGP30__0          TVOC      27         ppb\n",
      "39  2025-07-04T10:39:42  DS_18B20   TEMPERATURE   26.12          *C\n",
      "40  2025-07-04T10:39:42  PMS_5003           PM1      22       ug/m3\n",
      "41  2025-07-04T10:39:42  PMS_5003           PM2       5  : 32 ug/m3\n",
      "42  2025-07-04T10:39:42  PMS_5003          PM10      33       ug/m3\n"
     ]
    }
   ],
   "source": [
    "query(\"\"\"\n",
    "SELECT *\n",
    "FROM metadata\n",
    "\"\"\")"
   ]
  },
  {
   "cell_type": "code",
   "execution_count": 5,
   "id": "024c1950",
   "metadata": {},
   "outputs": [],
   "source": [
    "# mischief managed\n",
    "\n",
    "conn.close()"
   ]
  }
 ],
 "metadata": {
  "kernelspec": {
   "display_name": "Python 3",
   "language": "python",
   "name": "python3"
  },
  "language_info": {
   "codemirror_mode": {
    "name": "ipython",
    "version": 3
   },
   "file_extension": ".py",
   "mimetype": "text/x-python",
   "name": "python",
   "nbconvert_exporter": "python",
   "pygments_lexer": "ipython3",
   "version": "3.12.0"
  }
 },
 "nbformat": 4,
 "nbformat_minor": 5
}
