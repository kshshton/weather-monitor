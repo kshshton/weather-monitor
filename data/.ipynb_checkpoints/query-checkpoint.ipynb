{
 "cells": [
  {
   "cell_type": "code",
   "execution_count": 6,
   "id": "9a88e82a",
   "metadata": {
    "vscode": {
     "languageId": "plaintext"
    }
   },
   "outputs": [],
   "source": [
    "import sqlite3\n",
    "import pandas as pd\n",
    "\n",
    "conn = sqlite3.connect(\"metadata.db\")"
   ]
  },
  {
   "cell_type": "code",
   "execution_count": 4,
   "id": "7a090ea7",
   "metadata": {
    "vscode": {
     "languageId": "plaintext"
    }
   },
   "outputs": [],
   "source": [
    "def query(sql: str) -> None:\n",
    "    print(pd.read_sql_query(sql, conn))"
   ]
  },
  {
   "cell_type": "code",
   "execution_count": 19,
   "id": "42543073-cef2-4975-8b91-47e3008caf5b",
   "metadata": {},
   "outputs": [
    {
     "name": "stdout",
     "output_type": "stream",
     "text": [
      "    value\n",
      "0   28.98\n",
      "1   30.91\n",
      "2   993.2\n",
      "3   29.75\n",
      "4   54.83\n",
      "5   992.3\n",
      "6   29.36\n",
      "7   42.87\n",
      "8   992.7\n",
      "9   994.2\n",
      "10  29.79\n",
      "11  29.33\n",
      "12  36.36\n",
      "13  29.68\n",
      "14  33.42\n",
      "15  29.51\n",
      "16  34.89\n",
      "17  30.20\n",
      "18  29.00\n",
      "19  26.60\n",
      "20  45.40\n",
      "21    534\n",
      "22    666\n",
      "23  29.12\n"
     ]
    }
   ],
   "source": [
    "query(\"\"\"\n",
    "SELECT value\n",
    "FROM metadata\n",
    "WHERE CAST(value AS REAL) > 20\n",
    "\"\"\")"
   ]
  },
  {
   "cell_type": "code",
   "execution_count": 20,
   "id": "024c1950",
   "metadata": {
    "vscode": {
     "languageId": "plaintext"
    }
   },
   "outputs": [],
   "source": [
    "# mischief managed\n",
    "\n",
    "conn.close()"
   ]
  }
 ],
 "metadata": {
  "kernelspec": {
   "display_name": "Python 3 (ipykernel)",
   "language": "python",
   "name": "python3"
  },
  "language_info": {
   "codemirror_mode": {
    "name": "ipython",
    "version": 3
   },
   "file_extension": ".py",
   "mimetype": "text/x-python",
   "name": "python",
   "nbconvert_exporter": "python",
   "pygments_lexer": "ipython3",
   "version": "3.12.0"
  }
 },
 "nbformat": 4,
 "nbformat_minor": 5
}
